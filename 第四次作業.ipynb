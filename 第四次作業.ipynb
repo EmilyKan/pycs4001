{
  "nbformat": 4,
  "nbformat_minor": 0,
  "metadata": {
    "colab": {
      "name": "第四次作業.ipynb",
      "provenance": [],
      "collapsed_sections": [],
      "authorship_tag": "ABX9TyNstoJVP+C7pk3um3MhX5bf",
      "include_colab_link": true
    },
    "kernelspec": {
      "name": "python3",
      "display_name": "Python 3"
    },
    "language_info": {
      "name": "python"
    }
  },
  "cells": [
    {
      "cell_type": "markdown",
      "metadata": {
        "id": "view-in-github",
        "colab_type": "text"
      },
      "source": [
        "<a href=\"https://colab.research.google.com/github/EmilyKan/pycs4001/blob/main/%E7%AC%AC%E5%9B%9B%E6%AC%A1%E4%BD%9C%E6%A5%AD.ipynb\" target=\"_parent\"><img src=\"https://colab.research.google.com/assets/colab-badge.svg\" alt=\"Open In Colab\"/></a>"
      ]
    },
    {
      "cell_type": "code",
      "execution_count": 2,
      "metadata": {
        "id": "VJDbL2oNrD0c"
      },
      "outputs": [],
      "source": [
        "\n",
        "\n",
        "import numpy as np\n",
        "A = np.zeros((2,3))\n",
        "B = np.zeros((3,2))\n",
        "\n"
      ]
    },
    {
      "cell_type": "code",
      "source": [
        "\n",
        "\n",
        "print(\"A:\")\n",
        "for i in range(2):\n",
        "  A[i,:] = np.array(list(map(lambda x: int(x), input().split())))\n",
        "print(\"B:\")\n",
        "for i in range(3):\n",
        "  B[i,:] = np.array(list(map(lambda x: int(x), input().split())))\n",
        "\n"
      ],
      "metadata": {
        "colab": {
          "base_uri": "https://localhost:8080/"
        },
        "id": "Yy-eqkoGt08E",
        "outputId": "c78d5797-67e5-44ed-c70f-746a54c5a065"
      },
      "execution_count": 4,
      "outputs": [
        {
          "name": "stdout",
          "output_type": "stream",
          "text": [
            "A:\n",
            "2 3 5\n",
            "5 7 8\n",
            "B:\n",
            "1 2\n",
            "3 0\n",
            "2 6\n"
          ]
        }
      ]
    },
    {
      "cell_type": "code",
      "source": [
        "\n",
        "\n",
        "ans = np.matmul(A,B)\n",
        "print(ans)\n",
        "\n"
      ],
      "metadata": {
        "colab": {
          "base_uri": "https://localhost:8080/"
        },
        "id": "SIhfHLInt3IV",
        "outputId": "a98076a3-9c5a-4310-9422-67c059019562"
      },
      "execution_count": 5,
      "outputs": [
        {
          "output_type": "stream",
          "name": "stdout",
          "text": [
            "[[21. 34.]\n",
            " [42. 58.]]\n"
          ]
        }
      ]
    },
    {
      "cell_type": "code",
      "execution_count": 28,
      "metadata": {
        "id": "gxnYQ3OB08NO"
      },
      "outputs": [],
      "source": [
        "\n",
        "\n",
        "import numpy as np\n",
        "Ac = np.zeros((1,10))\n",
        "Bc = np.zeros((1,10))\n",
        "Cc = np.zeros((1,10))\n"
      ]
    },
    {
      "cell_type": "code",
      "source": [
        "print(\"A class:\")\n",
        "Ac = np.array(list(map(lambda x: int(x), input().split())))\n",
        "print(\"B class:\")\n",
        "Bc = np.array(list(map(lambda x: int(x), input().split())))\n",
        "print(\"C class:\")\n",
        "Cc = np.array(list(map(lambda x: int(x), input().split())))  "
      ],
      "metadata": {
        "colab": {
          "base_uri": "https://localhost:8080/"
        },
        "id": "w70777il1II_",
        "outputId": "724498f9-0b13-497d-fabf-d4152b8fc747"
      },
      "execution_count": 32,
      "outputs": [
        {
          "name": "stdout",
          "output_type": "stream",
          "text": [
            "A class:\n",
            "32 57 89 82 98 57 88 56 93 91\n",
            "B class:\n",
            "88 93 20 70 56 83 92 100 80 97\n",
            "C class:\n",
            "82 75 83 95 96 90 77 82 90 88\n"
          ]
        }
      ]
    },
    {
      "cell_type": "code",
      "source": [
        "print(f\"A class 總和: {np.sum(Ac)}, 最大: {np.max(Ac)}\")\n",
        "print(f\"B class 總和: {np.sum(Bc)}, 最大: {np.max(Bc)}\")\n",
        "print(f\"C class 總和: {np.sum(Cc)}, 最大: {np.max(Cc)}\")"
      ],
      "metadata": {
        "colab": {
          "base_uri": "https://localhost:8080/"
        },
        "id": "GJRV1AjS1k6H",
        "outputId": "3793e8cb-2cab-4be8-cba0-91662494197d"
      },
      "execution_count": 41,
      "outputs": [
        {
          "output_type": "stream",
          "name": "stdout",
          "text": [
            "A class 總和: 743, 最大: 98\n",
            "B class 總和: 779, 最大: 100\n",
            "C class 總和: 858, 最大: 96\n"
          ]
        }
      ]
    }
  ]
}