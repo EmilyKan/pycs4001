{
  "nbformat": 4,
  "nbformat_minor": 0,
  "metadata": {
    "colab": {
      "name": "第五次作業.ipynb",
      "provenance": [],
      "collapsed_sections": [],
      "mount_file_id": "1wrMtT8BAWCTAv4OS9EehxhQ3u3DiYY9H",
      "authorship_tag": "ABX9TyOAZ24EhUDanEFbVCf7uiPU",
      "include_colab_link": true
    },
    "kernelspec": {
      "name": "python3",
      "display_name": "Python 3"
    },
    "language_info": {
      "name": "python"
    }
  },
  "cells": [
    {
      "cell_type": "markdown",
      "metadata": {
        "id": "view-in-github",
        "colab_type": "text"
      },
      "source": [
        "<a href=\"https://colab.research.google.com/github/EmilyKan/pycs4001/blob/main/%E7%AC%AC%E4%BA%94%E6%AC%A1%E4%BD%9C%E6%A5%AD.ipynb\" target=\"_parent\"><img src=\"https://colab.research.google.com/assets/colab-badge.svg\" alt=\"Open In Colab\"/></a>"
      ]
    },
    {
      "cell_type": "code",
      "execution_count": 5,
      "metadata": {
        "colab": {
          "base_uri": "https://localhost:8080/",
          "height": 313
        },
        "id": "0TJcpPImpgFs",
        "outputId": "cc4ac074-cee1-4a4e-b3a7-2eae7d49e9ab"
      },
      "outputs": [
        {
          "output_type": "stream",
          "name": "stdout",
          "text": [
            "evaluation MSE: 0.013446201443205819\n"
          ]
        },
        {
          "output_type": "display_data",
          "data": {
            "text/plain": [
              "<Figure size 432x288 with 1 Axes>"
            ],
            "image/png": "[encoded data removed]"
          },
          "metadata": {
            "needs_background": "light"
          }
        }
      ],
      "source": [
        "import numpy as np\n",
        "import pandas as pd\n",
        "import matplotlib.pyplot as plt\n",
        "from sklearn import datasets\n",
        "from sklearn.model_selection import train_test_split\n",
        "from sklearn.linear_model import LinearRegression\n",
        "from sklearn.metrics import mean_squared_error\n",
        "from sklearn.preprocessing import StandardScaler\n",
        "X, Y = datasets.make_regression(n_samples=1000, n_features=1, noise=10, random_state=10)\n",
        "\n",
        "\n",
        "data = pd.read_csv('drive/MyDrive/Colab Notebooks/Salary_Data.csv')\n",
        "\n",
        "X = np.array(data[\"YearsExperience\"]).reshape(-1,1)\n",
        "Y = np.array(data[\"Salary\"]).reshape(-1,1)\n",
        "train_x, test_x, train_y, test_y  = train_test_split(X, Y, test_size=0.2, random_state=10)\n",
        "\n",
        "#將數據標準化\n",
        "scaler_x = StandardScaler()\n",
        "scaler_y = StandardScaler()\n",
        "\n",
        "sc_train_x = scaler_x.fit_transform(train_x)\n",
        "sc_train_y = scaler_y.fit_transform(train_y)\n",
        "\n",
        "#搭配模型\n",
        "from sklearn.linear_model import LinearRegression\n",
        "regression = LinearRegression()\n",
        "#訓練模型\n",
        "regression.fit(sc_train_x, sc_train_y)\n",
        "#評估模型\n",
        "sc_test_x = scaler_x.transform(test_x)\n",
        "sc_test_y = scaler_y.transform(test_y)\n",
        "y_hat = regression.predict(sc_test_x)\n",
        "print(f\"evaluation MSE: {mean_squared_error(sc_test_y, y_hat)}\")\n",
        "\n",
        "Y_hat = regression.predict(scaler_x.transform(X))\n",
        "Y_inv_hat = scaler_y.inverse_transform(Y_hat)\n",
        "\n",
        "plt.scatter(X, Y, s =3)\n",
        "plt.plot(X, Y_inv_hat, color=\"red\")\n",
        "plt.title('Years & Salarys')\n",
        "plt.xlabel('Years Experience')\n",
        "plt.ylabel('Salarys')\n",
        "plt.show()\n",
        "\n"
      ]
    },
    {
      "cell_type": "code",
      "source": [
        ""
      ],
      "metadata": {
        "id": "5_ISdmenweKH"
      },
      "execution_count": null,
      "outputs": []
    }
  ]
}