{
  "nbformat": 4,
  "nbformat_minor": 0,
  "metadata": {
    "colab": {
      "name": "第三次作業.ipynb",
      "provenance": [],
      "collapsed_sections": [],
      "authorship_tag": "ABX9TyMQkmmD+UeBfdWgjJ08CFEv",
      "include_colab_link": true
    },
    "kernelspec": {
      "name": "python3",
      "display_name": "Python 3"
    },
    "language_info": {
      "name": "python"
    }
  },
  "cells": [
    {
      "cell_type": "markdown",
      "metadata": {
        "id": "view-in-github",
        "colab_type": "text"
      },
      "source": [
        "<a href=\"https://colab.research.google.com/github/EmilyKan/pycs4001/blob/main/%E7%AC%AC%E4%B8%89%E6%AC%A1%E4%BD%9C%E6%A5%AD.ipynb\" target=\"_parent\"><img src=\"https://colab.research.google.com/assets/colab-badge.svg\" alt=\"Open In Colab\"/></a>"
      ]
    },
    {
      "cell_type": "markdown",
      "source": [
        "1"
      ],
      "metadata": {
        "id": "vbn6xClsVd0U"
      }
    },
    {
      "cell_type": "code",
      "execution_count": null,
      "metadata": {
        "id": "hxNtQYUeVXsf"
      },
      "outputs": [],
      "source": [
        "s = input()\n",
        "a = input()\n",
        "print(s.count(a))\n",
        "\n"
      ]
    },
    {
      "cell_type": "markdown",
      "source": [
        "2"
      ],
      "metadata": {
        "id": "HYsDcT1qVhL9"
      }
    },
    {
      "cell_type": "code",
      "source": [
        "n = int(input())\n",
        "for i in range(n):\n",
        "    for j in range(n-i):\n",
        "        print(\" \",end=\"\")\n",
        "    for h in range(i+1):\n",
        "        print(\"*\",end=\"\")\n",
        "    print()\n",
        "    \n"
      ],
      "metadata": {
        "id": "ef3wv8UlViGT"
      },
      "execution_count": null,
      "outputs": []
    },
    {
      "cell_type": "markdown",
      "source": [
        "3"
      ],
      "metadata": {
        "id": "tGT0f43SVlXc"
      }
    },
    {
      "cell_type": "code",
      "source": [
        "def get_distance(p1, p2):\n",
        "   p1 = []\n",
        "   p2 = []\n",
        "   x = int(input()).split(\" \")\n",
        "   p1.append(x)\n",
        "   y = int(input()).split(\" \")\n",
        "   p2.append(y)\n",
        "\n",
        "   return math.sqrt((p1[0] - p2[0])**2 + (p1[1] - p2[1])**2)"
      ],
      "metadata": {
        "id": "vYPqe9H-Vl72"
      },
      "execution_count": null,
      "outputs": []
    },
    {
      "cell_type": "markdown",
      "source": [
        "4"
      ],
      "metadata": {
        "id": "yvnhsEVGVqXe"
      }
    },
    {
      "cell_type": "code",
      "source": [
        "import random\n",
        "row = int(input())\n",
        "col = int(input())\n",
        "for i in range(row):\n",
        "    print(random.randint(1,20),end=\" \")\n",
        "    for j in range(col-1):\n",
        "        print(random.randint(1,20),end=\" \")\n",
        "    print()"
      ],
      "metadata": {
        "id": "1qMD51NSVq09"
      },
      "execution_count": null,
      "outputs": []
    }
  ]
}