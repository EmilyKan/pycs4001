{
  "nbformat": 4,
  "nbformat_minor": 0,
  "metadata": {
    "colab": {
      "name": "第二次作業.ipynb",
      "provenance": [],
      "collapsed_sections": [],
      "authorship_tag": "ABX9TyN/GVpnk7CKU8ayE46/tkOz",
      "include_colab_link": true
    },
    "kernelspec": {
      "name": "python3",
      "display_name": "Python 3"
    },
    "language_info": {
      "name": "python"
    }
  },
  "cells": [
    {
      "cell_type": "markdown",
      "metadata": {
        "id": "view-in-github",
        "colab_type": "text"
      },
      "source": [
        "<a href=\"https://colab.research.google.com/github/EmilyKan/pycs4001/blob/main/%E7%AC%AC%E4%BA%8C%E6%AC%A1%E4%BD%9C%E6%A5%AD.ipynb\" target=\"_parent\"><img src=\"https://colab.research.google.com/assets/colab-badge.svg\" alt=\"Open In Colab\"/></a>"
      ]
    },
    {
      "cell_type": "markdown",
      "source": [
        "1"
      ],
      "metadata": {
        "id": "6-Bk33oNU0K6"
      }
    },
    {
      "cell_type": "code",
      "execution_count": null,
      "metadata": {
        "id": "ADSuNZKgDesa"
      },
      "outputs": [],
      "source": [
        "n = int(input())\n",
        "ans = 0\n",
        "for i in range(1,n+1):\n",
        "    ans = ans + i\n",
        "    if i != n:\n",
        "     print(i,end=\"+\")\n",
        "    else:\n",
        "     print(i,end =\"=\")\n",
        "print(ans)\n",
        "        "
      ]
    },
    {
      "cell_type": "markdown",
      "source": [
        "2"
      ],
      "metadata": {
        "id": "7cYy8rxfU5BS"
      }
    },
    {
      "cell_type": "code",
      "source": [
        "s = input()\n",
        "a = input()\n",
        "s2 = s.split(\",\")\n",
        "for i in s2 :\n",
        "    if i > a:\n",
        "        print(i,end=\"\")"
      ],
      "metadata": {
        "id": "CspfaYjHU5rv"
      },
      "execution_count": null,
      "outputs": []
    },
    {
      "cell_type": "markdown",
      "source": [
        "3"
      ],
      "metadata": {
        "id": "qo7VpPmiU5-3"
      }
    },
    {
      "cell_type": "code",
      "source": [
        "s = input().split()\n",
        "numbers = []\n",
        "for i in s:\n",
        "    numbers.append(int(i)):        \n",
        "print(sum(numbers))\n"
      ],
      "metadata": {
        "id": "cTHF2IqqU6dX"
      },
      "execution_count": null,
      "outputs": []
    },
    {
      "cell_type": "markdown",
      "source": [
        "4"
      ],
      "metadata": {
        "id": "DdGeTjvPU643"
      }
    },
    {
      "cell_type": "code",
      "source": [
        "s = input()\n",
        "a = input()\n",
        "print(s.count(a))\n",
        "\n"
      ],
      "metadata": {
        "id": "SKPm9aauU79Z"
      },
      "execution_count": null,
      "outputs": []
    }
  ]
}