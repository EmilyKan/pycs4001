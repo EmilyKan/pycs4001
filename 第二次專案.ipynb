{
  "nbformat": 4,
  "nbformat_minor": 0,
  "metadata": {
    "colab": {
      "name": "space.ipynb",
      "provenance": [],
      "collapsed_sections": [],
      "mount_file_id": "17qOJzDiBf9XS43zpd0JXH1De9odrUoBS",
      "authorship_tag": "ABX9TyM2INirPLb+aCrR3dXK5+5j",
      "include_colab_link": true
    },
    "kernelspec": {
      "name": "python3",
      "display_name": "Python 3"
    },
    "language_info": {
      "name": "python"
    }
  },
  "cells": [
    {
      "cell_type": "markdown",
      "metadata": {
        "id": "view-in-github",
        "colab_type": "text"
      },
      "source": [
        "<a href=\"https://colab.research.google.com/github/EmilyKan/pycs4001/blob/main/%E7%AC%AC%E4%BA%8C%E6%AC%A1%E5%B0%88%E6%A1%88.ipynb\" target=\"_parent\"><img src=\"https://colab.research.google.com/assets/colab-badge.svg\" alt=\"Open In Colab\"/></a>"
      ]
    },
    {
      "cell_type": "code",
      "execution_count": null,
      "metadata": {
        "id": "I0lcR6ySk1KM"
      },
      "outputs": [],
      "source": [
        "import os\n",
        "import numpy as np\n",
        "import pandas as pd\n",
        "import seaborn as sn\n",
        "import matplotlib.pyplot as plt\n",
        "\n",
        "test_data=pd.read_csv(\"/content/drive/MyDrive/Colab Notebooks/space/test.csv\")\n",
        "train_data=pd.read_csv(\"/content/drive/MyDrive/Colab Notebooks/space/train.csv\")\n",
        "submission = pd.read_csv('/content/drive/MyDrive/Colab Notebooks/space/sample_submission.csv')\n",
        "test_ids = test_data[\"PassengerId\"]"
      ]
    },
    {
      "cell_type": "code",
      "source": [
        "\n",
        "cat = train_data.columns[train_data.dtypes == 'object']\n",
        "num = train_data.columns[train_data.dtypes != 'object']\n",
        "\n",
        "train_data['Transported'] = train_data['Transported'].map({True:1, False:0})\n"
      ],
      "metadata": {
        "id": "UCLDH4aq_K49"
      },
      "execution_count": null,
      "outputs": []
    },
    {
      "cell_type": "code",
      "source": [
        "df = pd.concat([train_data, test_data], axis=0).copy()\n",
        "df1 = df.copy()\n",
        "df1 = df1.drop(['Cabin','Name'], axis=1)\n",
        "df2 = df1.copy()"
      ],
      "metadata": {
        "id": "gNo1_-6dL1Lr"
      },
      "execution_count": null,
      "outputs": []
    },
    {
      "cell_type": "code",
      "source": [
        "\n",
        "#整理passenger id 資料\n",
        "df2['group'] = df2.apply(lambda row: row['PassengerId'][0:4], axis=1)\n",
        "df2['number'] = df2.apply(lambda row: int(row['PassengerId'][5:7]), axis=1)\n",
        "df2 = df2.drop(['PassengerId'], axis=1)\n",
        "#把Transported換到最後一行\n",
        "features = df2.columns.tolist()\n",
        "features.remove('Transported')\n",
        "features.append('Transported')\n",
        "df2 = df2[features].copy()\n",
        "print(df2)"
      ],
      "metadata": {
        "colab": {
          "base_uri": "https://localhost:8080/"
        },
        "id": "QWCzw0-Fce9u",
        "outputId": "32102e2c-d48b-4476-dbfc-cfbc24c3cc96"
      },
      "execution_count": null,
      "outputs": [
        {
          "output_type": "stream",
          "name": "stdout",
          "text": [
            "     HomePlanet CryoSleep    Destination   Age    VIP  RoomService  FoodCourt  \\\n",
            "0        Europa     False    TRAPPIST-1e  39.0  False          0.0        0.0   \n",
            "1         Earth     False    TRAPPIST-1e  24.0  False        109.0        9.0   \n",
            "2        Europa     False    TRAPPIST-1e  58.0   True         43.0     3576.0   \n",
            "3        Europa     False    TRAPPIST-1e  33.0  False          0.0     1283.0   \n",
            "4         Earth     False    TRAPPIST-1e  16.0  False        303.0       70.0   \n",
            "...         ...       ...            ...   ...    ...          ...        ...   \n",
            "4272      Earth      True    TRAPPIST-1e  34.0  False          0.0        0.0   \n",
            "4273      Earth     False    TRAPPIST-1e  42.0  False          0.0      847.0   \n",
            "4274       Mars      True    55 Cancri e   NaN  False          0.0        0.0   \n",
            "4275     Europa     False            NaN   NaN  False          0.0     2680.0   \n",
            "4276      Earth      True  PSO J318.5-22  43.0  False          0.0        0.0   \n",
            "\n",
            "      ShoppingMall     Spa  VRDeck group  number  Transported  \n",
            "0              0.0     0.0     0.0  0001       1          0.0  \n",
            "1             25.0   549.0    44.0  0002       1          1.0  \n",
            "2              0.0  6715.0    49.0  0003       1          0.0  \n",
            "3            371.0  3329.0   193.0  0003       2          0.0  \n",
            "4            151.0   565.0     2.0  0004       1          1.0  \n",
            "...            ...     ...     ...   ...     ...          ...  \n",
            "4272           0.0     0.0     0.0  9266       2          NaN  \n",
            "4273          17.0    10.0   144.0  9269       1          NaN  \n",
            "4274           0.0     0.0     0.0  9271       1          NaN  \n",
            "4275           0.0     0.0   523.0  9273       1          NaN  \n",
            "4276           0.0     0.0     0.0  9277       1          NaN  \n",
            "\n",
            "[12970 rows x 13 columns]\n"
          ]
        }
      ]
    },
    {
      "cell_type": "code",
      "source": [
        "#將資料分類\n",
        "num_missing_features = df2.columns[5:-1].to_list()\n",
        "num_missing_features.append('Age')\n",
        "\n",
        "cat_missing_features = df2.columns[:5].to_list()\n",
        "cat_missing_features.remove('Age')\n",
        "\n"
      ],
      "metadata": {
        "id": "ZUkqehmhivEd"
      },
      "execution_count": null,
      "outputs": []
    },
    {
      "cell_type": "code",
      "source": [
        "#標準化資料\n",
        "from sklearn.preprocessing import StandardScaler\n",
        "\n",
        "df3 = df2.copy()\n",
        "\n",
        "scaler = StandardScaler()\n",
        "df3[num_missing_features] = scaler.fit_transform(df3[num_missing_features])\n",
        "\n",
        "#填充缺失值\n",
        "from sklearn.impute import KNNImputer\n",
        "\n",
        "df4 = df3.copy()\n",
        "\n",
        "imputer = KNNImputer(n_neighbors=3)\n",
        "df4[num_missing_features] = imputer.fit_transform(df4[num_missing_features])\n",
        "df5 = df4.copy()\n",
        "\n",
        "for feature in cat_missing_features:\n",
        "    df5[feature] = df5[feature].fillna(value=df5[feature].mode()[0])\n",
        "\n",
        "\n",
        "df5.isnull().sum()\n",
        "\n",
        "\n",
        "\n",
        "df6 = df5.copy()\n",
        "\n",
        "for feature in ['HomePlanet','Destination']:\n",
        "    df6 = pd.get_dummies(df6, columns=[feature])\n",
        "    df6 = df6.drop([df6.columns[-1]], axis=1)\n",
        "\n",
        "for feature in ['CryoSleep','VIP']:\n",
        "    df6[feature] = df6[feature].map({True:1, False:0})\n",
        "\n"
      ],
      "metadata": {
        "id": "7ORc9f51kHsp"
      },
      "execution_count": null,
      "outputs": []
    },
    {
      "cell_type": "code",
      "source": [
        "X_train = df6.iloc[:train_data.shape[0],:].copy()\n",
        "X_train = X_train.drop(['Transported'], axis=1).copy()\n",
        "y_train = train_data['Transported'].copy()\n",
        "X_test = df6.iloc[train_data.shape[0]:,:]"
      ],
      "metadata": {
        "id": "BSZSZPi6lHYD"
      },
      "execution_count": null,
      "outputs": []
    },
    {
      "cell_type": "code",
      "source": [
        "from sklearn.ensemble import RandomForestClassifier\n",
        "from sklearn.model_selection import cross_validate\n",
        "df.fillna(0) \n",
        "RF = RandomForestClassifier(n_estimators = 200,\n",
        "                            max_depth = 30,\n",
        "                            max_features = 4,\n",
        "                            min_samples_split = 10,\n",
        "                            min_samples_leaf = 10,\n",
        "                            random_state = 0)\n",
        "RF_cv_scores = cross_validate(RF, X_train, y_train, scoring='accuracy', cv=5)\n",
        "round(RF_cv_scores['test_score'].mean(),5)\n"
      ],
      "metadata": {
        "colab": {
          "base_uri": "https://localhost:8080/"
        },
        "id": "eMcJCR3ElJ-r",
        "outputId": "75759313-5aef-46f9-ffe3-2879c422b2b2"
      },
      "execution_count": null,
      "outputs": [
        {
          "output_type": "execute_result",
          "data": {
            "text/plain": [
              "0.77557"
            ]
          },
          "metadata": {},
          "execution_count": 174
        }
      ]
    },
    {
      "cell_type": "code",
      "source": [
        "RF.fit(X_train, y_train)"
      ],
      "metadata": {
        "colab": {
          "base_uri": "https://localhost:8080/"
        },
        "id": "_W4D9K_BlM-D",
        "outputId": "3d2a15d2-9405-40e0-83fb-53f8ad8b7221"
      },
      "execution_count": null,
      "outputs": [
        {
          "output_type": "execute_result",
          "data": {
            "text/plain": [
              "RandomForestClassifier(max_depth=30, max_features=4, min_samples_leaf=10,\n",
              "                       min_samples_split=10, n_estimators=200, random_state=0)"
            ]
          },
          "metadata": {},
          "execution_count": 175
        }
      ]
    },
    {
      "cell_type": "code",
      "source": [
        "\n",
        "\n",
        "y_pred = RF.predict(X_test.drop(['Transported'],axis=1))\n",
        "submission['Transported'] = y_pred\n",
        "submission['Transported'] = submission['Transported'].map({1:True, 0:False})\n",
        "submission.head()\n",
        "\n"
      ],
      "metadata": {
        "colab": {
          "base_uri": "https://localhost:8080/",
          "height": 206
        },
        "id": "wPI88lyplQAE",
        "outputId": "6a87116a-a748-4a65-cdf6-5192bffa5351"
      },
      "execution_count": null,
      "outputs": [
        {
          "output_type": "execute_result",
          "data": {
            "text/plain": [
              "  PassengerId  Transported\n",
              "0     0013_01         True\n",
              "1     0018_01        False\n",
              "2     0019_01         True\n",
              "3     0021_01         True\n",
              "4     0023_01        False"
            ],
            "text/html": [
              "\n",
              "  <div id=\"df-e8a2ccea-f068-4d41-81c0-de07da78222f\">\n",
              "    <div class=\"colab-df-container\">\n",
              "      <div>\n",
              "<style scoped>\n",
              "    .dataframe tbody tr th:only-of-type {\n",
              "        vertical-align: middle;\n",
              "    }\n",
              "\n",
              "    .dataframe tbody tr th {\n",
              "        vertical-align: top;\n",
              "    }\n",
              "\n",
              "    .dataframe thead th {\n",
              "        text-align: right;\n",
              "    }\n",
              "</style>\n",
              "<table border=\"1\" class=\"dataframe\">\n",
              "  <thead>\n",
              "    <tr style=\"text-align: right;\">\n",
              "      <th></th>\n",
              "      <th>PassengerId</th>\n",
              "      <th>Transported</th>\n",
              "    </tr>\n",
              "  </thead>\n",
              "  <tbody>\n",
              "    <tr>\n",
              "      <th>0</th>\n",
              "      <td>0013_01</td>\n",
              "      <td>True</td>\n",
              "    </tr>\n",
              "    <tr>\n",
              "      <th>1</th>\n",
              "      <td>0018_01</td>\n",
              "      <td>False</td>\n",
              "    </tr>\n",
              "    <tr>\n",
              "      <th>2</th>\n",
              "      <td>0019_01</td>\n",
              "      <td>True</td>\n",
              "    </tr>\n",
              "    <tr>\n",
              "      <th>3</th>\n",
              "      <td>0021_01</td>\n",
              "      <td>True</td>\n",
              "    </tr>\n",
              "    <tr>\n",
              "      <th>4</th>\n",
              "      <td>0023_01</td>\n",
              "      <td>False</td>\n",
              "    </tr>\n",
              "  </tbody>\n",
              "</table>\n",
              "</div>\n",
              "      <button class=\"colab-df-convert\" onclick=\"convertToInteractive('df-e8a2ccea-f068-4d41-81c0-de07da78222f')\"\n",
              "              title=\"Convert this dataframe to an interactive table.\"\n",
              "              style=\"display:none;\">\n",
              "        \n",
              "  <svg xmlns=\"http://www.w3.org/2000/svg\" height=\"24px\"viewBox=\"0 0 24 24\"\n",
              "       width=\"24px\">\n",
              "    <path d=\"M0 0h24v24H0V0z\" fill=\"none\"/>\n",
              "    <path d=\"M18.56 5.44l.94 2.06.94-2.06 2.06-.94-2.06-.94-.94-2.06-.94 2.06-2.06.94zm-11 1L8.5 8.5l.94-2.06 2.06-.94-2.06-.94L8.5 2.5l-.94 2.06-2.06.94zm10 10l.94 2.06.94-2.06 2.06-.94-2.06-.94-.94-2.06-.94 2.06-2.06.94z\"/><path d=\"M17.41 7.96l-1.37-1.37c-.4-.4-.92-.59-1.43-.59-.52 0-1.04.2-1.43.59L10.3 9.45l-7.72 7.72c-.78.78-.78 2.05 0 2.83L4 21.41c.39.39.9.59 1.41.59.51 0 1.02-.2 1.41-.59l7.78-7.78 2.81-2.81c.8-.78.8-2.07 0-2.86zM5.41 20L4 18.59l7.72-7.72 1.47 1.35L5.41 20z\"/>\n",
              "  </svg>\n",
              "      </button>\n",
              "      \n",
              "  <style>\n",
              "    .colab-df-container {\n",
              "      display:flex;\n",
              "      flex-wrap:wrap;\n",
              "      gap: 12px;\n",
              "    }\n",
              "\n",
              "    .colab-df-convert {\n",
              "      background-color: #E8F0FE;\n",
              "      border: none;\n",
              "      border-radius: 50%;\n",
              "      cursor: pointer;\n",
              "      display: none;\n",
              "      fill: #1967D2;\n",
              "      height: 32px;\n",
              "      padding: 0 0 0 0;\n",
              "      width: 32px;\n",
              "    }\n",
              "\n",
              "    .colab-df-convert:hover {\n",
              "      background-color: #E2EBFA;\n",
              "      box-shadow: 0px 1px 2px rgba(60, 64, 67, 0.3), 0px 1px 3px 1px rgba(60, 64, 67, 0.15);\n",
              "      fill: #174EA6;\n",
              "    }\n",
              "\n",
              "    [theme=dark] .colab-df-convert {\n",
              "      background-color: #3B4455;\n",
              "      fill: #D2E3FC;\n",
              "    }\n",
              "\n",
              "    [theme=dark] .colab-df-convert:hover {\n",
              "      background-color: #434B5C;\n",
              "      box-shadow: 0px 1px 3px 1px rgba(0, 0, 0, 0.15);\n",
              "      filter: drop-shadow(0px 1px 2px rgba(0, 0, 0, 0.3));\n",
              "      fill: #FFFFFF;\n",
              "    }\n",
              "  </style>\n",
              "\n",
              "      <script>\n",
              "        const buttonEl =\n",
              "          document.querySelector('#df-e8a2ccea-f068-4d41-81c0-de07da78222f button.colab-df-convert');\n",
              "        buttonEl.style.display =\n",
              "          google.colab.kernel.accessAllowed ? 'block' : 'none';\n",
              "\n",
              "        async function convertToInteractive(key) {\n",
              "          const element = document.querySelector('#df-e8a2ccea-f068-4d41-81c0-de07da78222f');\n",
              "          const dataTable =\n",
              "            await google.colab.kernel.invokeFunction('convertToInteractive',\n",
              "                                                     [key], {});\n",
              "          if (!dataTable) return;\n",
              "\n",
              "          const docLinkHtml = 'Like what you see? Visit the ' +\n",
              "            '<a target=\"_blank\" href=https://colab.research.google.com/notebooks/data_table.ipynb>data table notebook</a>'\n",
              "            + ' to learn more about interactive tables.';\n",
              "          element.innerHTML = '';\n",
              "          dataTable['output_type'] = 'display_data';\n",
              "          await google.colab.output.renderOutput(dataTable, element);\n",
              "          const docLink = document.createElement('div');\n",
              "          docLink.innerHTML = docLinkHtml;\n",
              "          element.appendChild(docLink);\n",
              "        }\n",
              "      </script>\n",
              "    </div>\n",
              "  </div>\n",
              "  "
            ]
          },
          "metadata": {},
          "execution_count": 176
        }
      ]
    },
    {
      "cell_type": "code",
      "source": [
        "\n",
        "\n",
        "submission.to_csv('submission.csv', index=False)\n",
        "\n"
      ],
      "metadata": {
        "id": "fGWzb07zlSYN"
      },
      "execution_count": null,
      "outputs": []
    }
  ]
}