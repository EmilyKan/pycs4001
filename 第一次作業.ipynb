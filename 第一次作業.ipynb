{
  "nbformat": 4,
  "nbformat_minor": 0,
  "metadata": {
    "colab": {
      "name": "第一次作業.ipynb",
      "provenance": [],
      "collapsed_sections": [],
      "authorship_tag": "ABX9TyPVdrd2TzBx/tSgitPSm7MP",
      "include_colab_link": true
    },
    "kernelspec": {
      "name": "python3",
      "display_name": "Python 3"
    },
    "language_info": {
      "name": "python"
    }
  },
  "cells": [
    {
      "cell_type": "markdown",
      "metadata": {
        "id": "view-in-github",
        "colab_type": "text"
      },
      "source": [
        "<a href=\"https://colab.research.google.com/github/EmilyKan/pycs4001/blob/main/%E7%AC%AC%E4%B8%80%E6%AC%A1%E4%BD%9C%E6%A5%AD.ipynb\" target=\"_parent\"><img src=\"https://colab.research.google.com/assets/colab-badge.svg\" alt=\"Open In Colab\"/></a>"
      ]
    },
    {
      "cell_type": "markdown",
      "source": [
        "1"
      ],
      "metadata": {
        "id": "AgZCoCXIDJHy"
      }
    },
    {
      "cell_type": "code",
      "execution_count": null,
      "metadata": {
        "id": "c7SlQwwkClu_"
      },
      "outputs": [],
      "source": [
        "try:\n",
        "    x= int(input())\n",
        "    y= int(input())\n",
        "    print(round(x/y , 2))\n",
        "except:\n",
        "    print(\"請輸入正確數字格式\")\n"
      ]
    },
    {
      "cell_type": "markdown",
      "source": [
        "2"
      ],
      "metadata": {
        "id": "Od1k477XDPCE"
      }
    },
    {
      "cell_type": "code",
      "source": [
        "\n",
        "a = int(input())\n",
        "if a%6 == 0:\n",
        "    print (a,\"為6的倍數\",end=\"\")\n",
        "elif a%2 == 0:\n",
        "    print (a,\"為2的倍數\",end=\"\")\n",
        "elif a%3 == 0:\n",
        "    print (a,\"為3的倍數\",end=\"\")\n"
      ],
      "metadata": {
        "id": "TxXH166mC7uW"
      },
      "execution_count": null,
      "outputs": []
    },
    {
      "cell_type": "markdown",
      "source": [
        "3"
      ],
      "metadata": {
        "id": "8iIuFbYoDRLU"
      }
    },
    {
      "cell_type": "code",
      "source": [
        "n = int(input())\n",
        "\n",
        "a = n%86400//3600\n",
        "\n",
        "b = n%86400%3600//60\n",
        "\n",
        "c = n%86400%3600%60\n",
        "\n",
        "print(f\"{a}時{b}分{c}秒\")\n"
      ],
      "metadata": {
        "id": "OTpPwIfMDA6X"
      },
      "execution_count": null,
      "outputs": []
    },
    {
      "cell_type": "markdown",
      "source": [
        "4"
      ],
      "metadata": {
        "id": "K0_inmWLDTuq"
      }
    },
    {
      "cell_type": "code",
      "source": [
        "n = int(input())\n",
        "for i in range(1,n,2):\n",
        " print(i,end=\"\")\n"
      ],
      "metadata": {
        "id": "o9HucBNnDEqi"
      },
      "execution_count": null,
      "outputs": []
    }
  ]
}