{
  "nbformat": 4,
  "nbformat_minor": 0,
  "metadata": {
    "colab": {
      "name": "titanic.rf",
      "provenance": [],
      "collapsed_sections": [],
      "mount_file_id": "1iMk3xWxarT0iqwXK5BVJMG8h2hnGvMWN",
      "authorship_tag": "ABX9TyN17Ks47hRqHfurNWN4wm1Z",
      "include_colab_link": true
    },
    "kernelspec": {
      "name": "python3",
      "display_name": "Python 3"
    },
    "language_info": {
      "name": "python"
    }
  },
  "cells": [
    {
      "cell_type": "markdown",
      "metadata": {
        "id": "view-in-github",
        "colab_type": "text"
      },
      "source": [
        "<a href=\"https://colab.research.google.com/github/EmilyKan/pycs4001/blob/main/titanic_rf.ipynb\" target=\"_parent\"><img src=\"https://colab.research.google.com/assets/colab-badge.svg\" alt=\"Open In Colab\"/></a>"
      ]
    },
    {
      "cell_type": "code",
      "execution_count": null,
      "metadata": {
        "colab": {
          "base_uri": "https://localhost:8080/"
        },
        "id": "KffULw7FlkCu",
        "outputId": "415809f6-7d04-4ac1-9036-0032673dbd9c"
      },
      "outputs": [
        {
          "output_type": "stream",
          "name": "stdout",
          "text": [
            "train data shape: (891, 6)\n",
            "test data shape: (418, 6)\n",
            "(891, 7)\n"
          ]
        },
        {
          "output_type": "stream",
          "name": "stderr",
          "text": [
            "100%|██████████| 28/28 [00:24<00:00,  1.16it/s]\n"
          ]
        },
        {
          "output_type": "stream",
          "name": "stdout",
          "text": [
            "10\n"
          ]
        },
        {
          "output_type": "stream",
          "name": "stderr",
          "text": [
            " 77%|███████▋  | 115/150 [01:49<00:49,  1.41s/it]"
          ]
        }
      ],
      "source": [
        "\n",
        "\n",
        "import numpy as np\n",
        "import pandas as pd\n",
        "import matplotlib.pyplot as plt\n",
        "from tqdm import tqdm\n",
        "\n",
        "\n",
        "test_data=pd.read_csv(\"/content/drive/MyDrive/Colab Notebooks/test.csv\")\n",
        "train_data=pd.read_csv(\"/content/drive/MyDrive/Colab Notebooks/train.csv\")\n",
        "gender_data=pd.read_csv(\"/content/drive/MyDrive/Colab Notebooks/gender_submission.csv\")\n",
        "test_ids = test_data[\"PassengerId\"]\n",
        "\n",
        "def clean(data):\n",
        "    data = data.drop([\"PassengerId\", \"Name\", \"Ticket\", \"Cabin\", \"Embarked\"], axis=1)\n",
        "\n",
        "    cols = [\"SibSp\", \"Parch\", \"Fare\", \"Age\"]\n",
        "    for col in cols:\n",
        "        data[col].fillna(data[col].mean(), inplace=True)\n",
        "    return data\n",
        "\n",
        "\n",
        "\n",
        "train_data = clean(train_data)\n",
        "test_data = clean(test_data)\n",
        "\n",
        "train_data.head(5)\n",
        "\n",
        "X = train_data.iloc[:, 1:]\n",
        "Y = train_data.iloc[:, 0]\n",
        "\n",
        "print(f\"train data shape: {X.shape}\")\n",
        "print(f\"test data shape: {test_data.shape}\")\n",
        "\n",
        "dummy_x = pd.get_dummies(X)\n",
        "print(dummy_x.shape)\n",
        "dummy_x\n",
        "\n",
        "\n",
        "from sklearn.preprocessing import StandardScaler\n",
        "scaler = StandardScaler()\n",
        "sc_x = scaler.fit_transform(dummy_x)\n",
        "\n",
        "from sklearn.ensemble import RandomForestClassifier\n",
        "from sklearn.model_selection import cross_val_score\n",
        "\n",
        "depth = []\n",
        "for i in tqdm(range(2,50,1)):\n",
        "  rf = RandomForestClassifier(max_depth=i)\n",
        "  scores = cross_val_score(rf, sc_x, Y, cv=5)\n",
        "  depth.append(scores.mean())\n",
        "\n",
        "final_depth = np.argmax(np.array(depth)) + 2\n",
        "print(final_depth)\n",
        "\n",
        "estimators = []\n",
        "for i in tqdm(range(50,200,1)):\n",
        "  rf = RandomForestClassifier(n_estimators=i, max_depth=final_depth)\n",
        "  scores = cross_val_score(rf, sc_x, Y, cv=5)\n",
        "  estimators.append(scores.mean())\n",
        "\n",
        "\n",
        "final_estimators = np.argmax(np.array(estimators)) + 50\n",
        "print(final_estimators)\n",
        "\n",
        "final_rf = RandomForestClassifier(n_estimators=final_estimators, max_depth=final_depth)\n",
        "final_rf.fit(sc_x, Y)\n",
        "\n",
        "estimators = []\n",
        "for i in tqdm(range(50,200,1)):\n",
        "  rf = RandomForestClassifier(n_estimators=i, max_depth=final_depth)\n",
        "  scores = cross_val_score(rf, sc_x, Y, cv=5)\n",
        "  estimators.append(scores.mean())\n",
        "\n",
        "\n",
        "\n",
        "\n",
        "\n",
        "dummy_test_data = pd.get_dummies(test_data)\n",
        "dummy_test_data\n",
        "\n",
        "sc_test_data_x = scaler.transform(dummy_test_data)\n",
        "\n",
        "submission = final_rf.predict(sc_test_data_x)\n",
        "\n",
        "print(submission)\n",
        "\n",
        "submission_data = pd.DataFrame({\"PassengerId\": test_ids.values, \"Survived\": submission })\n",
        "submission_data.to_csv(\"submission.csv\", index=False)\n"
      ]
    }
  ]
}