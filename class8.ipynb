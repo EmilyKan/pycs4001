{
  "nbformat": 4,
  "nbformat_minor": 0,
  "metadata": {
    "colab": {
      "name": "class8.ipynb",
      "provenance": [],
      "mount_file_id": "1yphp-goqulZ6pxKPMoNNDWm06IhdH_kB",
      "authorship_tag": "ABX9TyPWvWRMsW2xD/pD0VUDKoUE",
      "include_colab_link": true
    },
    "kernelspec": {
      "name": "python3",
      "display_name": "Python 3"
    },
    "language_info": {
      "name": "python"
    }
  },
  "cells": [
    {
      "cell_type": "markdown",
      "metadata": {
        "id": "view-in-github",
        "colab_type": "text"
      },
      "source": [
        "<a href=\"https://colab.research.google.com/github/EmilyKan/pycs4001/blob/main/class8.ipynb\" target=\"_parent\"><img src=\"https://colab.research.google.com/assets/colab-badge.svg\" alt=\"Open In Colab\"/></a>"
      ]
    },
    {
      "cell_type": "code",
      "execution_count": null,
      "metadata": {
        "colab": {
          "base_uri": "https://localhost:8080/"
        },
        "id": "xWm-r8xd44o3",
        "outputId": "9a6e1326-1b85-465f-e0eb-c6566b3dbf71"
      },
      "outputs": [
        {
          "output_type": "stream",
          "name": "stdout",
          "text": [
            "train_x shape:  (160, 9)\n",
            "test_x shape: (40, 9)\n",
            "DecisionTree Accuracy:  1.0\n"
          ]
        }
      ],
      "source": [
        "import numpy as np\n",
        "import pandas as pd\n",
        "import matplotlib.pyplot as plt\n",
        "\n",
        "data = pd.read_csv(\"https://raw.githubusercontent.com/ThousandAI/pycs4001/main/class08/drug200.csv\")\n",
        "# print(data.head(5))\n",
        "\n",
        "x = data.iloc[:,:-1]\n",
        "y = data.iloc[:,-1:]\n",
        "\n",
        "dummy_x = pd.get_dummies(x)\n",
        "# print(dummy_x)\n",
        "\n",
        "from sklearn.model_selection import train_test_split\n",
        "\n",
        "train_x, test_x, train_y, test_y = train_test_split(dummy_x, y, test_size=0.2, random_state=10)\n",
        "\n",
        "from sklearn.preprocessing import StandardScaler\n",
        "scaler_x = StandardScaler()\n",
        "scaler_y = StandardScaler()\n",
        "\n",
        "sc_train_x = scaler_x.fit_transform(train_x)\n",
        "\n",
        "\n",
        "print(f\"train_x shape:  {train_x.shape}\")\n",
        "print(f\"test_x shape: {test_x.shape}\")\n",
        "\n",
        "from sklearn.tree import DecisionTreeClassifier\n",
        "tree = DecisionTreeClassifier(criterion=\"entropy\", max_depth = 4, random_state=10)\n",
        "tree.fit(train_x, train_y)\n",
        "y_pred = tree.predict(test_x)\n",
        "\n",
        "\n",
        "\n",
        "from sklearn.metrics import mean_squared_error\n",
        "sc_test_x = scaler_x.transform(test_x)\n",
        "from sklearn import metrics\n",
        "print(\"DecisionTree Accuracy: \", metrics.accuracy_score(test_y, y_pred))\n",
        "\n"
      ]
    },
    {
      "cell_type": "code",
      "source": [
        "from sklearn.tree import DecisionTreeClassifier\n",
        "from sklearn.datasets import load_iris \n",
        "iris=load_iris()\n",
        "clf = DecisionTreeClassifier(random_state=1234)\n",
        "model = clf.fit(train_x, train_y)\n",
        "model.score(test_x, test_y)"
      ],
      "metadata": {
        "colab": {
          "base_uri": "https://localhost:8080/"
        },
        "id": "bhEwDDHLQFtv",
        "outputId": "9d30b977-040b-4f21-e9cd-cd23ff1b2add"
      },
      "execution_count": null,
      "outputs": [
        {
          "output_type": "execute_result",
          "data": {
            "text/plain": [
              "1.0"
            ]
          },
          "metadata": {},
          "execution_count": 43
        }
      ]
    },
    {
      "cell_type": "code",
      "source": [
        "\n",
        "\n",
        "import pydotplus\n",
        "dot_data=tree.export_graphviz(model,out_file=None)\n",
        "graph=pydotplus.graph_from_dot_data(dot_data)\n",
        "graph.write_pdf('ㄍtree.pdf')\n",
        "\n",
        "\n",
        "\n"
      ],
      "metadata": {
        "id": "EQWf6N3ZPjvQ",
        "colab": {
          "base_uri": "https://localhost:8080/"
        },
        "outputId": "a7b350dc-204a-451e-eb41-8ba65e6dc1c8"
      },
      "execution_count": 47,
      "outputs": [
        {
          "output_type": "execute_result",
          "data": {
            "text/plain": [
              "True"
            ]
          },
          "metadata": {},
          "execution_count": 47
        }
      ]
    }
  ]
}