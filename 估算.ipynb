{
  "nbformat": 4,
  "nbformat_minor": 0,
  "metadata": {
    "colab": {
      "provenance": [],
      "collapsed_sections": [],
      "authorship_tag": "ABX9TyMKfG2w5ep0bodgjQulfx7E",
      "include_colab_link": true
    },
    "kernelspec": {
      "name": "python3",
      "display_name": "Python 3"
    },
    "language_info": {
      "name": "python"
    }
  },
  "cells": [
    {
      "cell_type": "markdown",
      "metadata": {
        "id": "view-in-github",
        "colab_type": "text"
      },
      "source": [
        "<a href=\"https://colab.research.google.com/github/EmilyKan/pycs4001/blob/main/%E4%BC%B0%E7%AE%97.ipynb\" target=\"_parent\"><img src=\"https://colab.research.google.com/assets/colab-badge.svg\" alt=\"Open In Colab\"/></a>"
      ]
    },
    {
      "cell_type": "code",
      "execution_count": null,
      "metadata": {
        "id": "_cle4H6UbrtQ"
      },
      "outputs": [],
      "source": [
        "import numpy as np\n",
        "from sklearn.metrics import silhouette_score as ss\n",
        "from sklearn.cluster import DBSCAN"
      ]
    },
    {
      "cell_type": "markdown",
      "source": [
        "#讀取資料"
      ],
      "metadata": {
        "id": "ouAcVJTBcDHk"
      }
    },
    {
      "cell_type": "code",
      "source": [
        "x = []\n",
        "\n",
        "input_file = ('data_perf.txt')\n",
        "with open(input_file,'r')as f:\n",
        "    for line in f.readlines():\n",
        "         data = [float(i)for i in line.split(',')]\n",
        "         x.append(data)\n",
        "    \n",
        "x = np.array(x)"
      ],
      "metadata": {
        "id": "pNzRvcIDcJeK"
      },
      "execution_count": null,
      "outputs": []
    },
    {
      "cell_type": "markdown",
      "source": [
        "# Find the best epsilon "
      ],
      "metadata": {
        "id": "LuugHutJcN-t"
      }
    },
    {
      "cell_type": "code",
      "source": [
        "eps_grid = np.linspace(0.3,1.2,num=10)\n",
        "silhouette_scores = []\n",
        "eps_best = eps_grid[0]\n",
        "silhouette_scores_max = -1\n",
        "label_best = None\n",
        "\n",
        "for eps in eps_grid:\n",
        "    model = DBSCAN(eps=eps,min_samples = 5).fit(x)\n",
        "    lable = model.labels_\n",
        "    silhouette_score = round(ss(x,lable),4)\n",
        "    if  silhouette_score > silhouette_scores_max:\n",
        "         silhouette_scores.append(silhouette_score)\n",
        "         silhouette_scores_max = silhouette_score\n",
        "         eps_best = eps\n",
        "         label_best = lable\n",
        "         model_best = model"
      ],
      "metadata": {
        "id": "zVi4jzaUclyZ"
      },
      "execution_count": null,
      "outputs": []
    },
    {
      "cell_type": "markdown",
      "source": [
        "#提取性能指標"
      ],
      "metadata": {
        "id": "PdgFm7kCf97L"
      }
    },
    {
      "cell_type": "code",
      "source": [
        "    print(\"Epsilon:\", eps, \" --> silhouette score:\", silhouette_score)\n",
        "print(\"Best epsilon =\",eps_best  )"
      ],
      "metadata": {
        "id": "OTsUsdUBgLOD"
      },
      "execution_count": null,
      "outputs": []
    },
    {
      "cell_type": "code",
      "source": [
        "model = model_best\n",
        "lable = label_best"
      ],
      "metadata": {
        "id": "WOb-e54OgfxK"
      },
      "execution_count": null,
      "outputs": []
    },
    {
      "cell_type": "markdown",
      "source": [
        "# Number of clusters in the data "
      ],
      "metadata": {
        "id": "Qq5Pmx1Dgwlp"
      }
    },
    {
      "cell_type": "code",
      "source": [
        "offset = 0\n",
        "if -1 in lable:\n",
        "    offset = 1\n",
        "num = len(set(lable))-offset\n",
        "print(num)"
      ],
      "metadata": {
        "id": "lAwNBXTEgxu6"
      },
      "execution_count": null,
      "outputs": []
    }
  ]
}