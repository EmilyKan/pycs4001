{
  "nbformat": 4,
  "nbformat_minor": 0,
  "metadata": {
    "colab": {
      "name": "titanic.ipynb",
      "provenance": [],
      "mount_file_id": "156GO_TxVDa2jdzsxdWBTjCSPY3OpecdD",
      "authorship_tag": "ABX9TyN3FWlWXfRel3Ty1MUgdWb7",
      "include_colab_link": true
    },
    "kernelspec": {
      "name": "python3",
      "display_name": "Python 3"
    },
    "language_info": {
      "name": "python"
    }
  },
  "cells": [
    {
      "cell_type": "markdown",
      "metadata": {
        "id": "view-in-github",
        "colab_type": "text"
      },
      "source": [
        "<a href=\"https://colab.research.google.com/github/EmilyKan/pycs4001/blob/main/titanic.ipynb\" target=\"_parent\"><img src=\"https://colab.research.google.com/assets/colab-badge.svg\" alt=\"Open In Colab\"/></a>"
      ]
    },
    {
      "cell_type": "code",
      "execution_count": 19,
      "metadata": {
        "colab": {
          "base_uri": "https://localhost:8080/"
        },
        "id": "KffULw7FlkCu",
        "outputId": "c784e11d-227e-4bfb-ba56-664c2bb5980b"
      },
      "outputs": [
        {
          "output_type": "stream",
          "name": "stdout",
          "text": [
            "train data shape: (891, 6)\n",
            "test data shape: (418, 6)\n",
            "(891, 7)\n",
            "0.7991212102190698\n",
            "[0 0 0 0 1 0 1 0 1 0 0 0 1 0 1 1 0 0 0 0 0 1 1 0 1 0 1 0 0 0 0 0 1 0 0 0 0\n",
            " 0 0 0 0 1 0 1 1 0 0 0 1 1 0 0 1 0 0 0 0 0 0 1 0 0 0 1 1 1 1 0 0 1 1 0 0 0\n",
            " 1 0 0 1 0 1 1 0 0 0 0 0 1 0 0 1 1 0 0 0 0 0 1 0 1 0 1 0 0 0 0 0 0 0 0 0 0\n",
            " 0 1 1 1 0 0 1 0 1 1 0 1 0 0 1 0 1 0 0 0 0 0 0 0 0 0 0 0 0 0 1 0 0 1 0 0 0\n",
            " 1 0 1 0 0 1 0 0 1 1 1 1 0 1 0 0 0 1 0 0 1 0 0 0 0 0 0 1 1 0 1 1 0 0 1 0 1\n",
            " 0 1 0 0 0 0 0 0 0 1 0 1 1 0 0 1 1 0 1 0 0 0 0 1 0 0 0 0 1 0 0 0 0 1 0 1 0\n",
            " 1 0 1 1 0 0 0 0 0 1 0 0 0 0 0 0 1 1 1 1 0 0 0 0 1 0 1 1 1 0 0 0 0 0 0 0 1\n",
            " 0 0 0 1 1 0 0 0 0 0 0 0 0 1 1 0 1 0 0 0 0 0 1 0 1 1 0 0 0 0 0 0 1 0 0 0 0\n",
            " 0 0 0 0 0 0 0 0 0 1 0 1 0 0 0 0 0 0 1 1 0 0 0 0 0 0 0 1 1 0 1 0 0 0 1 0 0\n",
            " 1 0 0 0 0 0 0 0 0 0 1 0 1 0 0 0 1 1 0 0 0 1 0 1 0 0 1 0 1 1 0 1 0 0 1 1 0\n",
            " 0 1 0 0 1 1 0 0 0 0 0 0 1 1 0 1 0 0 0 0 0 1 1 0 0 1 0 1 0 0 1 0 1 0 0 0 0\n",
            " 0 0 1 0 1 1 0 1 0 0 0]\n"
          ]
        }
      ],
      "source": [
        "import numpy as np\n",
        "import pandas as pd\n",
        "import matplotlib.pyplot as plt\n",
        "\n",
        "test_data=pd.read_csv(\"/content/drive/MyDrive/Colab Notebooks/test.csv\")\n",
        "train_data=pd.read_csv(\"/content/drive/MyDrive/Colab Notebooks/train.csv\")\n",
        "gender_data=pd.read_csv(\"/content/drive/MyDrive/Colab Notebooks/gender_submission.csv\")\n",
        "test_ids = test_data[\"PassengerId\"]\n",
        "\n",
        "def clean(data):\n",
        "    data = data.drop([\"PassengerId\", \"Name\", \"Ticket\", \"Cabin\", \"Embarked\"], axis=1)\n",
        "\n",
        "    cols = [\"SibSp\", \"Parch\", \"Fare\", \"Age\"]\n",
        "    for col in cols:\n",
        "        data[col].fillna(data[col].mean(), inplace=True)\n",
        "    return data\n",
        "\n",
        "\n",
        "\n",
        "train_data = clean(train_data)\n",
        "test_data = clean(test_data)\n",
        "\n",
        "train_data.head(5)\n",
        "\n",
        "X = train_data.iloc[:, 1:]\n",
        "Y = train_data.iloc[:, 0]\n",
        "\n",
        "print(f\"train data shape: {X.shape}\")\n",
        "print(f\"test data shape: {test_data.shape}\")\n",
        "\n",
        "dummy_x = pd.get_dummies(X)\n",
        "print(dummy_x.shape)\n",
        "\n",
        "\n",
        "\n",
        "dummy_x\n",
        "\n",
        "\n",
        "from sklearn.preprocessing import StandardScaler\n",
        "scaler = StandardScaler()\n",
        "sc_x = scaler.fit_transform(dummy_x)\n",
        "\n",
        "from sklearn.tree import DecisionTreeClassifier\n",
        "from sklearn.model_selection import cross_val_score\n",
        "\n",
        "tree = DecisionTreeClassifier(criterion=\"entropy\", max_depth = 10, random_state=10)\n",
        "scores = cross_val_score(tree, sc_x, Y, cv=5)\n",
        "print(scores.mean())\n",
        "\n",
        "depth = []\n",
        "for i in range(2,100,1):\n",
        "  tree = DecisionTreeClassifier(criterion=\"entropy\", max_depth = i, random_state=10)\n",
        "  scores = cross_val_score(tree, sc_x, Y, cv=5)\n",
        "  depth.append(scores.mean())\n",
        "\n",
        "final_depth = np.argmax(np.array(depth)) + 2\n",
        "final_depth\n",
        "\n",
        "final_tree = DecisionTreeClassifier(criterion=\"entropy\", max_depth = final_depth, random_state=10)\n",
        "final_tree.fit(sc_x, Y)\n",
        "dummy_test_data = pd.get_dummies(test_data)\n",
        "dummy_test_data\n",
        "\n",
        "sc_test_data_x = scaler.transform(dummy_test_data)\n",
        "\n",
        "submission = final_tree.predict(sc_test_data_x)\n",
        "\n",
        "print(submission)\n",
        "\n",
        "submission_data = pd.DataFrame({\"PassengerId\": test_ids.values, \"Survived\": submission })\n",
        "submission_data.to_csv(\"submission.csv\", index=False)"
      ]
    }
  ]
}